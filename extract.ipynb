{
 "cells": [
  {
   "cell_type": "code",
   "execution_count": 1,
   "metadata": {},
   "outputs": [],
   "source": [
    "import requests\n",
    "import pandas as pd\n",
    "import time\n",
    "\n",
    "years = range(2020, 2025)  # 2020 to 2024\n",
    "seasons = ['winter', 'spring', 'summer', 'fall']\n",
    "anime_list = []"
   ]
  },
  {
   "cell_type": "code",
   "execution_count": 2,
   "metadata": {},
   "outputs": [
    {
     "name": "stdout",
     "output_type": "stream",
     "text": [
      "Fetched 25 anime from winter 2020\n",
      "Fetched 25 anime from spring 2020\n",
      "Fetched 25 anime from summer 2020\n",
      "Fetched 25 anime from fall 2020\n",
      "Fetched 25 anime from winter 2021\n",
      "Fetched 25 anime from spring 2021\n",
      "Fetched 25 anime from summer 2021\n",
      "Fetched 25 anime from fall 2021\n",
      "Fetched 25 anime from winter 2022\n",
      "Fetched 25 anime from spring 2022\n",
      "Fetched 25 anime from summer 2022\n",
      "Fetched 25 anime from fall 2022\n",
      "Fetched 25 anime from winter 2023\n",
      "Fetched 25 anime from spring 2023\n",
      "Fetched 25 anime from summer 2023\n",
      "Fetched 25 anime from fall 2023\n",
      "Fetched 25 anime from winter 2024\n",
      "Fetched 25 anime from spring 2024\n",
      "Fetched 25 anime from summer 2024\n",
      "Fetched 25 anime from fall 2024\n"
     ]
    }
   ],
   "source": [
    "BASE_URL = \"https://api.jikan.moe/v4/seasons\"\n",
    "for year in years:\n",
    "    for season in seasons:\n",
    "        try:\n",
    "            url = f\"{BASE_URL}/{year}/{season}\"\n",
    "            response = requests.get(url)\n",
    "\n",
    "            if response.status_code == 200:\n",
    "                data = response.json()\n",
    "                for anime in data.get(\"data\", []):\n",
    "                    anime_list.append({\n",
    "                        \"Anime ID\": anime.get(\"mal_id\"),\n",
    "                        \"Title\": anime.get(\"title\", \"Unknown\"),\n",
    "                        \"Score\": anime.get(\"score\", \"N/A\"),\n",
    "                        \"Popularity\": anime.get(\"popularity\", \"N/A\"),\n",
    "                        \"Members\": anime.get(\"members\"),\n",
    "                        \"Genres\": \", \".join([genre['name'] for genre in anime.get(\"genres\", [])]),\n",
    "                        \"Studios\": \", \".join([studio['name'] for studio in anime.get(\"studios\", [])]),\n",
    "                        \"Year\": year,\n",
    "                        \"Season\": season\n",
    "                    })\n",
    "                print(f\"Fetched {len(data.get('data', []))} anime from {season} {year}\")\n",
    "            else:\n",
    "                print(f\"Failed to fetch data for {season} {year}. Status code: {response.status_code}\")\n",
    "\n",
    "            time.sleep(1.5)  # Avoid hitting API rate limits\n",
    "\n",
    "        except Exception as e:\n",
    "            print(f\"Error fetching data for {season} {year}: {e}\")"
   ]
  },
  {
   "cell_type": "code",
   "execution_count": 3,
   "metadata": {},
   "outputs": [],
   "source": [
    "anime_df = pd.DataFrame(anime_list)"
   ]
  },
  {
   "cell_type": "code",
   "execution_count": 4,
   "metadata": {},
   "outputs": [
    {
     "name": "stdout",
     "output_type": "stream",
     "text": [
      "Data saved to anime_2020_2024.csv\n"
     ]
    }
   ],
   "source": [
    "anime_df.to_csv('anime_2020_2024.csv', index=False, encoding='utf-8')\n",
    "print(\"Data saved to anime_2020_2024.csv\")"
   ]
  }
 ],
 "metadata": {
  "kernelspec": {
   "display_name": "python_course",
   "language": "python",
   "name": "python3"
  },
  "language_info": {
   "codemirror_mode": {
    "name": "ipython",
    "version": 3
   },
   "file_extension": ".py",
   "mimetype": "text/x-python",
   "name": "python",
   "nbconvert_exporter": "python",
   "pygments_lexer": "ipython3",
   "version": "3.12.9"
  }
 },
 "nbformat": 4,
 "nbformat_minor": 2
}
